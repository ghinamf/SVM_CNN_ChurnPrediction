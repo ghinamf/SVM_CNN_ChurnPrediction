{
 "cells": [
  {
   "cell_type": "markdown",
   "metadata": {},
   "source": [
    "# Libs"
   ]
  },
  {
   "cell_type": "code",
   "execution_count": 50,
   "metadata": {},
   "outputs": [],
   "source": [
    "import pandas as pd\n",
    "import numpy as np\n",
    "import seaborn as sns\n",
    "import matplotlib.pyplot as plt\n",
    "\n",
    "from sklearn.model_selection import train_test_split\n",
    "from sklearn.preprocessing import StandardScaler, LabelEncoder\n",
    "from sklearn.svm import SVC\n",
    "import tensorflow as tf\n",
    "from tensorflow.keras.models import Sequential\n",
    "from tensorflow.keras.layers import Dense, Conv1D, Flatten, MaxPooling1D, Dropout\n",
    "from sklearn.metrics import classification_report, accuracy_score\n",
    "from sklearn.metrics import accuracy_score, classification_report, confusion_matrix, roc_auc_score, roc_curve"
   ]
  },
  {
   "cell_type": "markdown",
   "metadata": {},
   "source": [
    "# Data Understanding"
   ]
  },
  {
   "cell_type": "code",
   "execution_count": 2,
   "metadata": {},
   "outputs": [],
   "source": [
    "df= pd.read_csv('data/Dataset1.csv')"
   ]
  },
  {
   "cell_type": "code",
   "execution_count": 3,
   "metadata": {},
   "outputs": [
    {
     "data": {
      "text/html": [
       "<div>\n",
       "<style scoped>\n",
       "    .dataframe tbody tr th:only-of-type {\n",
       "        vertical-align: middle;\n",
       "    }\n",
       "\n",
       "    .dataframe tbody tr th {\n",
       "        vertical-align: top;\n",
       "    }\n",
       "\n",
       "    .dataframe thead th {\n",
       "        text-align: right;\n",
       "    }\n",
       "</style>\n",
       "<table border=\"1\" class=\"dataframe\">\n",
       "  <thead>\n",
       "    <tr style=\"text-align: right;\">\n",
       "      <th></th>\n",
       "      <th>id</th>\n",
       "      <th>is_tv_subscriber</th>\n",
       "      <th>is_movie_package_subscriber</th>\n",
       "      <th>subscription_age</th>\n",
       "      <th>bill_avg</th>\n",
       "      <th>reamining_contract</th>\n",
       "      <th>service_failure_count</th>\n",
       "      <th>download_avg</th>\n",
       "      <th>upload_avg</th>\n",
       "      <th>download_over_limit</th>\n",
       "      <th>churn</th>\n",
       "    </tr>\n",
       "  </thead>\n",
       "  <tbody>\n",
       "    <tr>\n",
       "      <th>0</th>\n",
       "      <td>15</td>\n",
       "      <td>1</td>\n",
       "      <td>0</td>\n",
       "      <td>11.95</td>\n",
       "      <td>25</td>\n",
       "      <td>0.14</td>\n",
       "      <td>0</td>\n",
       "      <td>8.4</td>\n",
       "      <td>2.3</td>\n",
       "      <td>0</td>\n",
       "      <td>0</td>\n",
       "    </tr>\n",
       "    <tr>\n",
       "      <th>1</th>\n",
       "      <td>18</td>\n",
       "      <td>0</td>\n",
       "      <td>0</td>\n",
       "      <td>8.22</td>\n",
       "      <td>0</td>\n",
       "      <td>NaN</td>\n",
       "      <td>0</td>\n",
       "      <td>0.0</td>\n",
       "      <td>0.0</td>\n",
       "      <td>0</td>\n",
       "      <td>1</td>\n",
       "    </tr>\n",
       "    <tr>\n",
       "      <th>2</th>\n",
       "      <td>23</td>\n",
       "      <td>1</td>\n",
       "      <td>0</td>\n",
       "      <td>8.91</td>\n",
       "      <td>16</td>\n",
       "      <td>0.00</td>\n",
       "      <td>0</td>\n",
       "      <td>13.7</td>\n",
       "      <td>0.9</td>\n",
       "      <td>0</td>\n",
       "      <td>1</td>\n",
       "    </tr>\n",
       "    <tr>\n",
       "      <th>3</th>\n",
       "      <td>27</td>\n",
       "      <td>0</td>\n",
       "      <td>0</td>\n",
       "      <td>6.87</td>\n",
       "      <td>21</td>\n",
       "      <td>NaN</td>\n",
       "      <td>1</td>\n",
       "      <td>0.0</td>\n",
       "      <td>0.0</td>\n",
       "      <td>0</td>\n",
       "      <td>1</td>\n",
       "    </tr>\n",
       "    <tr>\n",
       "      <th>4</th>\n",
       "      <td>34</td>\n",
       "      <td>0</td>\n",
       "      <td>0</td>\n",
       "      <td>6.39</td>\n",
       "      <td>0</td>\n",
       "      <td>NaN</td>\n",
       "      <td>0</td>\n",
       "      <td>0.0</td>\n",
       "      <td>0.0</td>\n",
       "      <td>0</td>\n",
       "      <td>1</td>\n",
       "    </tr>\n",
       "    <tr>\n",
       "      <th>...</th>\n",
       "      <td>...</td>\n",
       "      <td>...</td>\n",
       "      <td>...</td>\n",
       "      <td>...</td>\n",
       "      <td>...</td>\n",
       "      <td>...</td>\n",
       "      <td>...</td>\n",
       "      <td>...</td>\n",
       "      <td>...</td>\n",
       "      <td>...</td>\n",
       "      <td>...</td>\n",
       "    </tr>\n",
       "    <tr>\n",
       "      <th>72269</th>\n",
       "      <td>1689648</td>\n",
       "      <td>1</td>\n",
       "      <td>1</td>\n",
       "      <td>0.09</td>\n",
       "      <td>0</td>\n",
       "      <td>1.25</td>\n",
       "      <td>0</td>\n",
       "      <td>0.0</td>\n",
       "      <td>0.0</td>\n",
       "      <td>0</td>\n",
       "      <td>1</td>\n",
       "    </tr>\n",
       "    <tr>\n",
       "      <th>72270</th>\n",
       "      <td>1689676</td>\n",
       "      <td>1</td>\n",
       "      <td>0</td>\n",
       "      <td>0.06</td>\n",
       "      <td>1</td>\n",
       "      <td>1.63</td>\n",
       "      <td>0</td>\n",
       "      <td>0.8</td>\n",
       "      <td>0.0</td>\n",
       "      <td>0</td>\n",
       "      <td>1</td>\n",
       "    </tr>\n",
       "    <tr>\n",
       "      <th>72271</th>\n",
       "      <td>1689679</td>\n",
       "      <td>1</td>\n",
       "      <td>0</td>\n",
       "      <td>0.02</td>\n",
       "      <td>0</td>\n",
       "      <td>2.19</td>\n",
       "      <td>0</td>\n",
       "      <td>1.5</td>\n",
       "      <td>0.2</td>\n",
       "      <td>0</td>\n",
       "      <td>1</td>\n",
       "    </tr>\n",
       "    <tr>\n",
       "      <th>72272</th>\n",
       "      <td>1689733</td>\n",
       "      <td>0</td>\n",
       "      <td>0</td>\n",
       "      <td>0.01</td>\n",
       "      <td>0</td>\n",
       "      <td>0.72</td>\n",
       "      <td>0</td>\n",
       "      <td>0.0</td>\n",
       "      <td>0.0</td>\n",
       "      <td>0</td>\n",
       "      <td>1</td>\n",
       "    </tr>\n",
       "    <tr>\n",
       "      <th>72273</th>\n",
       "      <td>1689744</td>\n",
       "      <td>1</td>\n",
       "      <td>1</td>\n",
       "      <td>0.01</td>\n",
       "      <td>0</td>\n",
       "      <td>0.82</td>\n",
       "      <td>0</td>\n",
       "      <td>0.0</td>\n",
       "      <td>0.0</td>\n",
       "      <td>0</td>\n",
       "      <td>1</td>\n",
       "    </tr>\n",
       "  </tbody>\n",
       "</table>\n",
       "<p>72274 rows × 11 columns</p>\n",
       "</div>"
      ],
      "text/plain": [
       "            id  is_tv_subscriber  is_movie_package_subscriber  \\\n",
       "0           15                 1                            0   \n",
       "1           18                 0                            0   \n",
       "2           23                 1                            0   \n",
       "3           27                 0                            0   \n",
       "4           34                 0                            0   \n",
       "...        ...               ...                          ...   \n",
       "72269  1689648                 1                            1   \n",
       "72270  1689676                 1                            0   \n",
       "72271  1689679                 1                            0   \n",
       "72272  1689733                 0                            0   \n",
       "72273  1689744                 1                            1   \n",
       "\n",
       "       subscription_age  bill_avg  reamining_contract  service_failure_count  \\\n",
       "0                 11.95        25                0.14                      0   \n",
       "1                  8.22         0                 NaN                      0   \n",
       "2                  8.91        16                0.00                      0   \n",
       "3                  6.87        21                 NaN                      1   \n",
       "4                  6.39         0                 NaN                      0   \n",
       "...                 ...       ...                 ...                    ...   \n",
       "72269              0.09         0                1.25                      0   \n",
       "72270              0.06         1                1.63                      0   \n",
       "72271              0.02         0                2.19                      0   \n",
       "72272              0.01         0                0.72                      0   \n",
       "72273              0.01         0                0.82                      0   \n",
       "\n",
       "       download_avg  upload_avg  download_over_limit  churn  \n",
       "0               8.4         2.3                    0      0  \n",
       "1               0.0         0.0                    0      1  \n",
       "2              13.7         0.9                    0      1  \n",
       "3               0.0         0.0                    0      1  \n",
       "4               0.0         0.0                    0      1  \n",
       "...             ...         ...                  ...    ...  \n",
       "72269           0.0         0.0                    0      1  \n",
       "72270           0.8         0.0                    0      1  \n",
       "72271           1.5         0.2                    0      1  \n",
       "72272           0.0         0.0                    0      1  \n",
       "72273           0.0         0.0                    0      1  \n",
       "\n",
       "[72274 rows x 11 columns]"
      ]
     },
     "execution_count": 3,
     "metadata": {},
     "output_type": "execute_result"
    }
   ],
   "source": [
    "df"
   ]
  },
  {
   "cell_type": "code",
   "execution_count": 4,
   "metadata": {},
   "outputs": [
    {
     "data": {
      "text/plain": [
       "id                                 0\n",
       "is_tv_subscriber                   0\n",
       "is_movie_package_subscriber        0\n",
       "subscription_age                   0\n",
       "bill_avg                           0\n",
       "reamining_contract             21572\n",
       "service_failure_count              0\n",
       "download_avg                     381\n",
       "upload_avg                       381\n",
       "download_over_limit                0\n",
       "churn                              0\n",
       "dtype: int64"
      ]
     },
     "execution_count": 4,
     "metadata": {},
     "output_type": "execute_result"
    }
   ],
   "source": [
    "df.isnull().sum()"
   ]
  },
  {
   "cell_type": "code",
   "execution_count": 5,
   "metadata": {},
   "outputs": [
    {
     "data": {
      "text/plain": [
       "0"
      ]
     },
     "execution_count": 5,
     "metadata": {},
     "output_type": "execute_result"
    }
   ],
   "source": [
    "df.duplicated().sum()"
   ]
  },
  {
   "cell_type": "code",
   "execution_count": 6,
   "metadata": {},
   "outputs": [
    {
     "name": "stdout",
     "output_type": "stream",
     "text": [
      "<class 'pandas.core.frame.DataFrame'>\n",
      "RangeIndex: 72274 entries, 0 to 72273\n",
      "Data columns (total 11 columns):\n",
      " #   Column                       Non-Null Count  Dtype  \n",
      "---  ------                       --------------  -----  \n",
      " 0   id                           72274 non-null  int64  \n",
      " 1   is_tv_subscriber             72274 non-null  int64  \n",
      " 2   is_movie_package_subscriber  72274 non-null  int64  \n",
      " 3   subscription_age             72274 non-null  float64\n",
      " 4   bill_avg                     72274 non-null  int64  \n",
      " 5   reamining_contract           50702 non-null  float64\n",
      " 6   service_failure_count        72274 non-null  int64  \n",
      " 7   download_avg                 71893 non-null  float64\n",
      " 8   upload_avg                   71893 non-null  float64\n",
      " 9   download_over_limit          72274 non-null  int64  \n",
      " 10  churn                        72274 non-null  int64  \n",
      "dtypes: float64(4), int64(7)\n",
      "memory usage: 6.1 MB\n"
     ]
    }
   ],
   "source": [
    "df.info()"
   ]
  },
  {
   "cell_type": "markdown",
   "metadata": {},
   "source": [
    "# Data Prep"
   ]
  },
  {
   "cell_type": "code",
   "execution_count": 7,
   "metadata": {},
   "outputs": [],
   "source": [
    "#null values\n",
    "# df= df.fillna(df.mean())\n",
    "df = df.fillna(0)"
   ]
  },
  {
   "cell_type": "code",
   "execution_count": 8,
   "metadata": {},
   "outputs": [
    {
     "data": {
      "text/plain": [
       "id                             0\n",
       "is_tv_subscriber               0\n",
       "is_movie_package_subscriber    0\n",
       "subscription_age               0\n",
       "bill_avg                       0\n",
       "reamining_contract             0\n",
       "service_failure_count          0\n",
       "download_avg                   0\n",
       "upload_avg                     0\n",
       "download_over_limit            0\n",
       "churn                          0\n",
       "dtype: int64"
      ]
     },
     "execution_count": 8,
     "metadata": {},
     "output_type": "execute_result"
    }
   ],
   "source": [
    "df.isnull().sum()"
   ]
  },
  {
   "cell_type": "code",
   "execution_count": 9,
   "metadata": {},
   "outputs": [],
   "source": [
    "#drop the id coz unnecessasry\n",
    "df= df.drop(['id'], axis=1)"
   ]
  },
  {
   "cell_type": "code",
   "execution_count": 10,
   "metadata": {},
   "outputs": [],
   "source": [
    "#int to float\n",
    "df= df.astype('float64')"
   ]
  },
  {
   "cell_type": "code",
   "execution_count": 11,
   "metadata": {},
   "outputs": [
    {
     "name": "stdout",
     "output_type": "stream",
     "text": [
      "<class 'pandas.core.frame.DataFrame'>\n",
      "RangeIndex: 72274 entries, 0 to 72273\n",
      "Data columns (total 10 columns):\n",
      " #   Column                       Non-Null Count  Dtype  \n",
      "---  ------                       --------------  -----  \n",
      " 0   is_tv_subscriber             72274 non-null  float64\n",
      " 1   is_movie_package_subscriber  72274 non-null  float64\n",
      " 2   subscription_age             72274 non-null  float64\n",
      " 3   bill_avg                     72274 non-null  float64\n",
      " 4   reamining_contract           72274 non-null  float64\n",
      " 5   service_failure_count        72274 non-null  float64\n",
      " 6   download_avg                 72274 non-null  float64\n",
      " 7   upload_avg                   72274 non-null  float64\n",
      " 8   download_over_limit          72274 non-null  float64\n",
      " 9   churn                        72274 non-null  float64\n",
      "dtypes: float64(10)\n",
      "memory usage: 5.5 MB\n"
     ]
    }
   ],
   "source": [
    "df.info()"
   ]
  },
  {
   "cell_type": "code",
   "execution_count": 12,
   "metadata": {},
   "outputs": [
    {
     "data": {
      "text/html": [
       "<div>\n",
       "<style scoped>\n",
       "    .dataframe tbody tr th:only-of-type {\n",
       "        vertical-align: middle;\n",
       "    }\n",
       "\n",
       "    .dataframe tbody tr th {\n",
       "        vertical-align: top;\n",
       "    }\n",
       "\n",
       "    .dataframe thead th {\n",
       "        text-align: right;\n",
       "    }\n",
       "</style>\n",
       "<table border=\"1\" class=\"dataframe\">\n",
       "  <thead>\n",
       "    <tr style=\"text-align: right;\">\n",
       "      <th></th>\n",
       "      <th>is_tv_subscriber</th>\n",
       "      <th>is_movie_package_subscriber</th>\n",
       "      <th>subscription_age</th>\n",
       "      <th>bill_avg</th>\n",
       "      <th>reamining_contract</th>\n",
       "      <th>service_failure_count</th>\n",
       "      <th>download_avg</th>\n",
       "      <th>upload_avg</th>\n",
       "      <th>download_over_limit</th>\n",
       "      <th>churn</th>\n",
       "    </tr>\n",
       "  </thead>\n",
       "  <tbody>\n",
       "    <tr>\n",
       "      <th>0</th>\n",
       "      <td>1.0</td>\n",
       "      <td>0.0</td>\n",
       "      <td>11.95</td>\n",
       "      <td>25.0</td>\n",
       "      <td>0.14</td>\n",
       "      <td>0.0</td>\n",
       "      <td>8.4</td>\n",
       "      <td>2.3</td>\n",
       "      <td>0.0</td>\n",
       "      <td>0.0</td>\n",
       "    </tr>\n",
       "    <tr>\n",
       "      <th>1</th>\n",
       "      <td>0.0</td>\n",
       "      <td>0.0</td>\n",
       "      <td>8.22</td>\n",
       "      <td>0.0</td>\n",
       "      <td>0.00</td>\n",
       "      <td>0.0</td>\n",
       "      <td>0.0</td>\n",
       "      <td>0.0</td>\n",
       "      <td>0.0</td>\n",
       "      <td>1.0</td>\n",
       "    </tr>\n",
       "    <tr>\n",
       "      <th>2</th>\n",
       "      <td>1.0</td>\n",
       "      <td>0.0</td>\n",
       "      <td>8.91</td>\n",
       "      <td>16.0</td>\n",
       "      <td>0.00</td>\n",
       "      <td>0.0</td>\n",
       "      <td>13.7</td>\n",
       "      <td>0.9</td>\n",
       "      <td>0.0</td>\n",
       "      <td>1.0</td>\n",
       "    </tr>\n",
       "    <tr>\n",
       "      <th>3</th>\n",
       "      <td>0.0</td>\n",
       "      <td>0.0</td>\n",
       "      <td>6.87</td>\n",
       "      <td>21.0</td>\n",
       "      <td>0.00</td>\n",
       "      <td>1.0</td>\n",
       "      <td>0.0</td>\n",
       "      <td>0.0</td>\n",
       "      <td>0.0</td>\n",
       "      <td>1.0</td>\n",
       "    </tr>\n",
       "    <tr>\n",
       "      <th>4</th>\n",
       "      <td>0.0</td>\n",
       "      <td>0.0</td>\n",
       "      <td>6.39</td>\n",
       "      <td>0.0</td>\n",
       "      <td>0.00</td>\n",
       "      <td>0.0</td>\n",
       "      <td>0.0</td>\n",
       "      <td>0.0</td>\n",
       "      <td>0.0</td>\n",
       "      <td>1.0</td>\n",
       "    </tr>\n",
       "    <tr>\n",
       "      <th>...</th>\n",
       "      <td>...</td>\n",
       "      <td>...</td>\n",
       "      <td>...</td>\n",
       "      <td>...</td>\n",
       "      <td>...</td>\n",
       "      <td>...</td>\n",
       "      <td>...</td>\n",
       "      <td>...</td>\n",
       "      <td>...</td>\n",
       "      <td>...</td>\n",
       "    </tr>\n",
       "    <tr>\n",
       "      <th>72269</th>\n",
       "      <td>1.0</td>\n",
       "      <td>1.0</td>\n",
       "      <td>0.09</td>\n",
       "      <td>0.0</td>\n",
       "      <td>1.25</td>\n",
       "      <td>0.0</td>\n",
       "      <td>0.0</td>\n",
       "      <td>0.0</td>\n",
       "      <td>0.0</td>\n",
       "      <td>1.0</td>\n",
       "    </tr>\n",
       "    <tr>\n",
       "      <th>72270</th>\n",
       "      <td>1.0</td>\n",
       "      <td>0.0</td>\n",
       "      <td>0.06</td>\n",
       "      <td>1.0</td>\n",
       "      <td>1.63</td>\n",
       "      <td>0.0</td>\n",
       "      <td>0.8</td>\n",
       "      <td>0.0</td>\n",
       "      <td>0.0</td>\n",
       "      <td>1.0</td>\n",
       "    </tr>\n",
       "    <tr>\n",
       "      <th>72271</th>\n",
       "      <td>1.0</td>\n",
       "      <td>0.0</td>\n",
       "      <td>0.02</td>\n",
       "      <td>0.0</td>\n",
       "      <td>2.19</td>\n",
       "      <td>0.0</td>\n",
       "      <td>1.5</td>\n",
       "      <td>0.2</td>\n",
       "      <td>0.0</td>\n",
       "      <td>1.0</td>\n",
       "    </tr>\n",
       "    <tr>\n",
       "      <th>72272</th>\n",
       "      <td>0.0</td>\n",
       "      <td>0.0</td>\n",
       "      <td>0.01</td>\n",
       "      <td>0.0</td>\n",
       "      <td>0.72</td>\n",
       "      <td>0.0</td>\n",
       "      <td>0.0</td>\n",
       "      <td>0.0</td>\n",
       "      <td>0.0</td>\n",
       "      <td>1.0</td>\n",
       "    </tr>\n",
       "    <tr>\n",
       "      <th>72273</th>\n",
       "      <td>1.0</td>\n",
       "      <td>1.0</td>\n",
       "      <td>0.01</td>\n",
       "      <td>0.0</td>\n",
       "      <td>0.82</td>\n",
       "      <td>0.0</td>\n",
       "      <td>0.0</td>\n",
       "      <td>0.0</td>\n",
       "      <td>0.0</td>\n",
       "      <td>1.0</td>\n",
       "    </tr>\n",
       "  </tbody>\n",
       "</table>\n",
       "<p>72274 rows × 10 columns</p>\n",
       "</div>"
      ],
      "text/plain": [
       "       is_tv_subscriber  is_movie_package_subscriber  subscription_age  \\\n",
       "0                   1.0                          0.0             11.95   \n",
       "1                   0.0                          0.0              8.22   \n",
       "2                   1.0                          0.0              8.91   \n",
       "3                   0.0                          0.0              6.87   \n",
       "4                   0.0                          0.0              6.39   \n",
       "...                 ...                          ...               ...   \n",
       "72269               1.0                          1.0              0.09   \n",
       "72270               1.0                          0.0              0.06   \n",
       "72271               1.0                          0.0              0.02   \n",
       "72272               0.0                          0.0              0.01   \n",
       "72273               1.0                          1.0              0.01   \n",
       "\n",
       "       bill_avg  reamining_contract  service_failure_count  download_avg  \\\n",
       "0          25.0                0.14                    0.0           8.4   \n",
       "1           0.0                0.00                    0.0           0.0   \n",
       "2          16.0                0.00                    0.0          13.7   \n",
       "3          21.0                0.00                    1.0           0.0   \n",
       "4           0.0                0.00                    0.0           0.0   \n",
       "...         ...                 ...                    ...           ...   \n",
       "72269       0.0                1.25                    0.0           0.0   \n",
       "72270       1.0                1.63                    0.0           0.8   \n",
       "72271       0.0                2.19                    0.0           1.5   \n",
       "72272       0.0                0.72                    0.0           0.0   \n",
       "72273       0.0                0.82                    0.0           0.0   \n",
       "\n",
       "       upload_avg  download_over_limit  churn  \n",
       "0             2.3                  0.0    0.0  \n",
       "1             0.0                  0.0    1.0  \n",
       "2             0.9                  0.0    1.0  \n",
       "3             0.0                  0.0    1.0  \n",
       "4             0.0                  0.0    1.0  \n",
       "...           ...                  ...    ...  \n",
       "72269         0.0                  0.0    1.0  \n",
       "72270         0.0                  0.0    1.0  \n",
       "72271         0.2                  0.0    1.0  \n",
       "72272         0.0                  0.0    1.0  \n",
       "72273         0.0                  0.0    1.0  \n",
       "\n",
       "[72274 rows x 10 columns]"
      ]
     },
     "execution_count": 12,
     "metadata": {},
     "output_type": "execute_result"
    }
   ],
   "source": [
    "#new df with clean outliers\n",
    "df1= df\n",
    "df1"
   ]
  },
  {
   "cell_type": "markdown",
   "metadata": {},
   "source": [
    "# Data Model"
   ]
  },
  {
   "cell_type": "code",
   "execution_count": 13,
   "metadata": {},
   "outputs": [
    {
     "name": "stdout",
     "output_type": "stream",
     "text": [
      "Label Mapping: {0.0: 0, 1.0: 1}\n"
     ]
    }
   ],
   "source": [
    "#target feature encoding\n",
    "# le = LabelEncoder()\n",
    "# df1['churn'] = le.fit_transform(df1['churn'])\n",
    "\n",
    "le = LabelEncoder()\n",
    "df1['churn'] = le.fit_transform(df1['churn'])\n",
    "label_mapping = dict(zip(le.classes_, le.transform(le.classes_)))\n",
    "print(\"Label Mapping:\", label_mapping)\n"
   ]
  },
  {
   "cell_type": "markdown",
   "metadata": {},
   "source": [
    "## SVM"
   ]
  },
  {
   "cell_type": "code",
   "execution_count": 14,
   "metadata": {},
   "outputs": [],
   "source": [
    "X = df1.drop('churn', axis=1)\n",
    "y = df1['churn']"
   ]
  },
  {
   "cell_type": "code",
   "execution_count": 15,
   "metadata": {},
   "outputs": [],
   "source": [
    "X_train, X_test, y_train, y_test = train_test_split(X, y, test_size=0.3, random_state=42)"
   ]
  },
  {
   "cell_type": "code",
   "execution_count": 16,
   "metadata": {},
   "outputs": [],
   "source": [
    "scaler = StandardScaler()\n",
    "X_train = scaler.fit_transform(X_train)\n",
    "X_test = scaler.transform(X_test)"
   ]
  },
  {
   "cell_type": "code",
   "execution_count": 17,
   "metadata": {},
   "outputs": [
    {
     "name": "stdout",
     "output_type": "stream",
     "text": [
      "Best Parameters: {'estimator__C': 0.01}\n",
      "Best Cross-Validation Score: 0.8688501885870066\n"
     ]
    }
   ],
   "source": [
    "from sklearn.model_selection import GridSearchCV\n",
    "from sklearn.svm import LinearSVC\n",
    "from sklearn.calibration import CalibratedClassifierCV\n",
    "\n",
    "# svm_model = SVC(kernel='linear', probability=True)\n",
    "# svm_model.fit(X_train, y_train)\n",
    "\n",
    "# svm_model = LinearSVC(random_state=42)\n",
    "# svm_model.fit(X_train, y_train)\n",
    "\n",
    "# base_svc = LinearSVC(random_state=42)\n",
    "# svm_model = CalibratedClassifierCV(base_svc, cv=5)  \n",
    "# svm_model.fit(X_train, y_train)\n",
    "\n",
    "param_grid = {'estimator__C': [0.01, 0.1, 1, 10, 100]}\n",
    "\n",
    "# Initialize LinearSVC with CalibratedClassifierCV for probability estimates\n",
    "base_svc = LinearSVC(random_state=42)\n",
    "svm_model = CalibratedClassifierCV(base_svc, cv=5)\n",
    "\n",
    "# Perform GridSearchCV on the calibrated model\n",
    "grid_search = GridSearchCV(svm_model, param_grid, cv=5, scoring='accuracy')\n",
    "grid_search.fit(X_train, y_train)\n",
    "\n",
    "# Get the best model\n",
    "best_svm_model = grid_search.best_estimator_\n",
    "print(\"Best Parameters:\", grid_search.best_params_)\n",
    "print(\"Best Cross-Validation Score:\", grid_search.best_score_)\n",
    "\n"
   ]
  },
  {
   "cell_type": "code",
   "execution_count": 18,
   "metadata": {},
   "outputs": [],
   "source": [
    "# y_pred_svm = svm_model.predict(X_test)\n",
    "# y_pred_svm_proba = svm_model.predict_proba(X_test)[:, 1]\n",
    "\n",
    "y_pred_svm = best_svm_model.predict(X_test)\n",
    "y_pred_svm_proba = best_svm_model.predict_proba(X_test)[:, 1]"
   ]
  },
  {
   "cell_type": "code",
   "execution_count": 19,
   "metadata": {},
   "outputs": [],
   "source": [
    "accuracy_svm = accuracy_score(y_test, y_pred_svm)\n",
    "conf_matrix_svm = confusion_matrix(y_test, y_pred_svm)\n",
    "classification_report_svm = classification_report(y_test, y_pred_svm)\n",
    "auc_svm = roc_auc_score(y_test, y_pred_svm_proba)\n",
    "fpr, tpr, _ = roc_curve(y_test, y_pred_svm_proba)"
   ]
  },
  {
   "cell_type": "code",
   "execution_count": 20,
   "metadata": {},
   "outputs": [],
   "source": [
    "tn, fp, fn, tp = conf_matrix_svm.ravel()\n",
    "sensitivity_svm = tp / (tp + fn)\n",
    "specificity_svm = tn / (tn + fp)\n",
    "f1_score_svm = 2 * (sensitivity_svm * specificity_svm) / (sensitivity_svm + specificity_svm)"
   ]
  },
  {
   "cell_type": "code",
   "execution_count": 21,
   "metadata": {},
   "outputs": [
    {
     "name": "stdout",
     "output_type": "stream",
     "text": [
      "SVM Model Accuracy: 0.8685606235299543\n",
      "Classification Report:\n",
      "               precision    recall  f1-score   support\n",
      "\n",
      "           0       0.89      0.81      0.85      9795\n",
      "           1       0.85      0.92      0.88     11888\n",
      "\n",
      "    accuracy                           0.87     21683\n",
      "   macro avg       0.87      0.86      0.87     21683\n",
      "weighted avg       0.87      0.87      0.87     21683\n",
      "\n",
      "Confusion Matrix:\n",
      " [[ 7891  1904]\n",
      " [  946 10942]]\n",
      "Sensitivity: 0.9204239569313594\n",
      "Specificity: 0.8056151097498724\n",
      "F1 Score: 0.8592012329192684\n",
      "AUC: 0.9357430067047421\n"
     ]
    }
   ],
   "source": [
    "print(\"SVM Model Accuracy:\", accuracy_svm)\n",
    "print(\"Classification Report:\\n\", classification_report_svm)\n",
    "print(\"Confusion Matrix:\\n\", conf_matrix_svm)\n",
    "print(\"Sensitivity:\", sensitivity_svm)\n",
    "print(\"Specificity:\", specificity_svm)\n",
    "print(\"F1 Score:\", f1_score_svm)\n",
    "print(\"AUC:\", auc_svm)"
   ]
  },
  {
   "cell_type": "code",
   "execution_count": 22,
   "metadata": {},
   "outputs": [
    {
     "data": {
      "image/png": "[encoded data removed]",
      "text/plain": [
       "<Figure size 640x480 with 1 Axes>"
      ]
     },
     "metadata": {},
     "output_type": "display_data"
    }
   ],
   "source": [
    "plt.figure()\n",
    "plt.plot(fpr, tpr, label=\"SVM (AUC = {:.2f})\".format(auc_svm))\n",
    "plt.xlabel(\"False Positive Rate\")\n",
    "plt.ylabel(\"True Positive Rate\")\n",
    "plt.title(\"ROC Curve for SVM\")\n",
    "plt.legend(loc=\"lower right\")\n",
    "plt.show()"
   ]
  },
  {
   "cell_type": "markdown",
   "metadata": {},
   "source": [
    "## CNN"
   ]
  },
  {
   "cell_type": "code",
   "execution_count": 23,
   "metadata": {},
   "outputs": [],
   "source": [
    "X_train_cnn = X_train.reshape(X_train.shape[0], X_train.shape[1], 1)\n",
    "X_test_cnn = X_test.reshape(X_test.shape[0], X_test.shape[1], 1)"
   ]
  },
  {
   "cell_type": "code",
   "execution_count": 84,
   "metadata": {},
   "outputs": [
    {
     "name": "stderr",
     "output_type": "stream",
     "text": [
      "c:\\Users\\Lenovo\\AppData\\Local\\Programs\\Python\\Python311\\Lib\\site-packages\\keras\\src\\layers\\convolutional\\base_conv.py:107: UserWarning: Do not pass an `input_shape`/`input_dim` argument to a layer. When using Sequential models, prefer using an `Input(shape)` object as the first layer in the model instead.\n",
      "  super().__init__(activity_regularizer=activity_regularizer, **kwargs)\n"
     ]
    }
   ],
   "source": [
    "cnn_model = Sequential()\n",
    "cnn_model.add(Conv1D(64, kernel_size=2, activation='relu', input_shape=(X_train.shape[1], 1)))\n",
    "cnn_model.add(MaxPooling1D(pool_size=2))\n",
    "cnn_model.add(Flatten())\n",
    "cnn_model.add(Dense(50, activation='relu'))\n",
    "cnn_model.add(Dense(1, activation='sigmoid'))\n",
    "\n",
    "# cnn_model = Sequential()\n",
    "# cnn_model.add(Conv1D(32, kernel_size=3, activation='relu', input_shape=(X_train.shape[1], 1)))\n",
    "# cnn_model.add(Dropout(0.5))\n",
    "# cnn_model.add(Conv1D(16, kernel_size=3, activation='relu'))\n",
    "# cnn_model.add(Flatten())\n",
    "# cnn_model.add(Dense(1, activation='sigmoid'))"
   ]
  },
  {
   "cell_type": "code",
   "execution_count": 85,
   "metadata": {},
   "outputs": [],
   "source": [
    "cnn_model.compile(optimizer='adam', loss='binary_crossentropy', metrics=['accuracy'])"
   ]
  },
  {
   "cell_type": "code",
   "execution_count": 86,
   "metadata": {},
   "outputs": [
    {
     "name": "stdout",
     "output_type": "stream",
     "text": [
      "Epoch 1/70\n",
      "\u001b[1m3162/3162\u001b[0m \u001b[32m━━━━━━━━━━━━━━━━━━━━\u001b[0m\u001b[37m\u001b[0m \u001b[1m31s\u001b[0m 9ms/step - accuracy: 0.8829 - loss: 0.3197 - val_accuracy: 0.9194 - val_loss: 0.2385\n",
      "Epoch 2/70\n",
      "\u001b[1m3162/3162\u001b[0m \u001b[32m━━━━━━━━━━━━━━━━━━━━\u001b[0m\u001b[37m\u001b[0m \u001b[1m40s\u001b[0m 13ms/step - accuracy: 0.9186 - loss: 0.2477 - val_accuracy: 0.9239 - val_loss: 0.2344\n",
      "Epoch 3/70\n",
      "\u001b[1m3162/3162\u001b[0m \u001b[32m━━━━━━━━━━━━━━━━━━━━\u001b[0m\u001b[37m\u001b[0m \u001b[1m30s\u001b[0m 10ms/step - accuracy: 0.9215 - loss: 0.2417 - val_accuracy: 0.9290 - val_loss: 0.2226\n",
      "Epoch 4/70\n",
      "\u001b[1m3162/3162\u001b[0m \u001b[32m━━━━━━━━━━━━━━━━━━━━\u001b[0m\u001b[37m\u001b[0m \u001b[1m55s\u001b[0m 14ms/step - accuracy: 0.9264 - loss: 0.2299 - val_accuracy: 0.9287 - val_loss: 0.2208\n",
      "Epoch 5/70\n",
      "\u001b[1m3162/3162\u001b[0m \u001b[32m━━━━━━━━━━━━━━━━━━━━\u001b[0m\u001b[37m\u001b[0m \u001b[1m44s\u001b[0m 14ms/step - accuracy: 0.9298 - loss: 0.2235 - val_accuracy: 0.9275 - val_loss: 0.2215\n",
      "Epoch 6/70\n",
      "\u001b[1m3162/3162\u001b[0m \u001b[32m━━━━━━━━━━━━━━━━━━━━\u001b[0m\u001b[37m\u001b[0m \u001b[1m45s\u001b[0m 14ms/step - accuracy: 0.9276 - loss: 0.2265 - val_accuracy: 0.9271 - val_loss: 0.2249\n",
      "Epoch 7/70\n",
      "\u001b[1m3162/3162\u001b[0m \u001b[32m━━━━━━━━━━━━━━━━━━━━\u001b[0m\u001b[37m\u001b[0m \u001b[1m19s\u001b[0m 6ms/step - accuracy: 0.9287 - loss: 0.2260 - val_accuracy: 0.9316 - val_loss: 0.2148\n",
      "Epoch 8/70\n",
      "\u001b[1m3162/3162\u001b[0m \u001b[32m━━━━━━━━━━━━━━━━━━━━\u001b[0m\u001b[37m\u001b[0m \u001b[1m50s\u001b[0m 16ms/step - accuracy: 0.9296 - loss: 0.2221 - val_accuracy: 0.9314 - val_loss: 0.2130\n",
      "Epoch 9/70\n",
      "\u001b[1m3162/3162\u001b[0m \u001b[32m━━━━━━━━━━━━━━━━━━━━\u001b[0m\u001b[37m\u001b[0m \u001b[1m41s\u001b[0m 13ms/step - accuracy: 0.9304 - loss: 0.2194 - val_accuracy: 0.9314 - val_loss: 0.2145\n",
      "Epoch 10/70\n",
      "\u001b[1m3162/3162\u001b[0m \u001b[32m━━━━━━━━━━━━━━━━━━━━\u001b[0m\u001b[37m\u001b[0m \u001b[1m23s\u001b[0m 7ms/step - accuracy: 0.9311 - loss: 0.2172 - val_accuracy: 0.9319 - val_loss: 0.2105\n",
      "Epoch 11/70\n",
      "\u001b[1m3162/3162\u001b[0m \u001b[32m━━━━━━━━━━━━━━━━━━━━\u001b[0m\u001b[37m\u001b[0m \u001b[1m17s\u001b[0m 5ms/step - accuracy: 0.9304 - loss: 0.2175 - val_accuracy: 0.9296 - val_loss: 0.2180\n",
      "Epoch 12/70\n",
      "\u001b[1m3162/3162\u001b[0m \u001b[32m━━━━━━━━━━━━━━━━━━━━\u001b[0m\u001b[37m\u001b[0m \u001b[1m17s\u001b[0m 5ms/step - accuracy: 0.9295 - loss: 0.2179 - val_accuracy: 0.9330 - val_loss: 0.2096\n",
      "Epoch 13/70\n",
      "\u001b[1m3162/3162\u001b[0m \u001b[32m━━━━━━━━━━━━━━━━━━━━\u001b[0m\u001b[37m\u001b[0m \u001b[1m18s\u001b[0m 6ms/step - accuracy: 0.9297 - loss: 0.2163 - val_accuracy: 0.9330 - val_loss: 0.2108\n",
      "Epoch 14/70\n",
      "\u001b[1m3162/3162\u001b[0m \u001b[32m━━━━━━━━━━━━━━━━━━━━\u001b[0m\u001b[37m\u001b[0m \u001b[1m16s\u001b[0m 5ms/step - accuracy: 0.9302 - loss: 0.2171 - val_accuracy: 0.9304 - val_loss: 0.2187\n",
      "Epoch 15/70\n",
      "\u001b[1m3162/3162\u001b[0m \u001b[32m━━━━━━━━━━━━━━━━━━━━\u001b[0m\u001b[37m\u001b[0m \u001b[1m21s\u001b[0m 5ms/step - accuracy: 0.9306 - loss: 0.2149 - val_accuracy: 0.9330 - val_loss: 0.2089\n",
      "Epoch 16/70\n",
      "\u001b[1m3162/3162\u001b[0m \u001b[32m━━━━━━━━━━━━━━━━━━━━\u001b[0m\u001b[37m\u001b[0m \u001b[1m18s\u001b[0m 6ms/step - accuracy: 0.9315 - loss: 0.2139 - val_accuracy: 0.9317 - val_loss: 0.2074\n",
      "Epoch 17/70\n",
      "\u001b[1m3162/3162\u001b[0m \u001b[32m━━━━━━━━━━━━━━━━━━━━\u001b[0m\u001b[37m\u001b[0m \u001b[1m17s\u001b[0m 5ms/step - accuracy: 0.9316 - loss: 0.2104 - val_accuracy: 0.9284 - val_loss: 0.2203\n",
      "Epoch 18/70\n",
      "\u001b[1m3162/3162\u001b[0m \u001b[32m━━━━━━━━━━━━━━━━━━━━\u001b[0m\u001b[37m\u001b[0m \u001b[1m18s\u001b[0m 6ms/step - accuracy: 0.9326 - loss: 0.2111 - val_accuracy: 0.9330 - val_loss: 0.2092\n",
      "Epoch 19/70\n",
      "\u001b[1m3162/3162\u001b[0m \u001b[32m━━━━━━━━━━━━━━━━━━━━\u001b[0m\u001b[37m\u001b[0m \u001b[1m17s\u001b[0m 5ms/step - accuracy: 0.9339 - loss: 0.2084 - val_accuracy: 0.9336 - val_loss: 0.2059\n",
      "Epoch 20/70\n",
      "\u001b[1m3162/3162\u001b[0m \u001b[32m━━━━━━━━━━━━━━━━━━━━\u001b[0m\u001b[37m\u001b[0m \u001b[1m18s\u001b[0m 6ms/step - accuracy: 0.9282 - loss: 0.2174 - val_accuracy: 0.9336 - val_loss: 0.2069\n",
      "Epoch 21/70\n",
      "\u001b[1m3162/3162\u001b[0m \u001b[32m━━━━━━━━━━━━━━━━━━━━\u001b[0m\u001b[37m\u001b[0m \u001b[1m16s\u001b[0m 5ms/step - accuracy: 0.9332 - loss: 0.2050 - val_accuracy: 0.9311 - val_loss: 0.2090\n",
      "Epoch 22/70\n",
      "\u001b[1m3162/3162\u001b[0m \u001b[32m━━━━━━━━━━━━━━━━━━━━\u001b[0m\u001b[37m\u001b[0m \u001b[1m15s\u001b[0m 5ms/step - accuracy: 0.9328 - loss: 0.2082 - val_accuracy: 0.9339 - val_loss: 0.2049\n",
      "Epoch 23/70\n",
      "\u001b[1m3162/3162\u001b[0m \u001b[32m━━━━━━━━━━━━━━━━━━━━\u001b[0m\u001b[37m\u001b[0m \u001b[1m15s\u001b[0m 5ms/step - accuracy: 0.9318 - loss: 0.2104 - val_accuracy: 0.9340 - val_loss: 0.2045\n",
      "Epoch 24/70\n",
      "\u001b[1m3162/3162\u001b[0m \u001b[32m━━━━━━━━━━━━━━━━━━━━\u001b[0m\u001b[37m\u001b[0m \u001b[1m16s\u001b[0m 5ms/step - accuracy: 0.9340 - loss: 0.2046 - val_accuracy: 0.9342 - val_loss: 0.2047\n",
      "Epoch 25/70\n",
      "\u001b[1m3162/3162\u001b[0m \u001b[32m━━━━━━━━━━━━━━━━━━━━\u001b[0m\u001b[37m\u001b[0m \u001b[1m17s\u001b[0m 5ms/step - accuracy: 0.9321 - loss: 0.2091 - val_accuracy: 0.9322 - val_loss: 0.2083\n",
      "Epoch 26/70\n",
      "\u001b[1m3162/3162\u001b[0m \u001b[32m━━━━━━━━━━━━━━━━━━━━\u001b[0m\u001b[37m\u001b[0m \u001b[1m17s\u001b[0m 5ms/step - accuracy: 0.9332 - loss: 0.2057 - val_accuracy: 0.9335 - val_loss: 0.2066\n",
      "Epoch 27/70\n",
      "\u001b[1m3162/3162\u001b[0m \u001b[32m━━━━━━━━━━━━━━━━━━━━\u001b[0m\u001b[37m\u001b[0m \u001b[1m16s\u001b[0m 5ms/step - accuracy: 0.9334 - loss: 0.2056 - val_accuracy: 0.9344 - val_loss: 0.2015\n",
      "Epoch 28/70\n",
      "\u001b[1m3162/3162\u001b[0m \u001b[32m━━━━━━━━━━━━━━━━━━━━\u001b[0m\u001b[37m\u001b[0m \u001b[1m16s\u001b[0m 5ms/step - accuracy: 0.9333 - loss: 0.2043 - val_accuracy: 0.9348 - val_loss: 0.2023\n",
      "Epoch 29/70\n",
      "\u001b[1m3162/3162\u001b[0m \u001b[32m━━━━━━━━━━━━━━━━━━━━\u001b[0m\u001b[37m\u001b[0m \u001b[1m16s\u001b[0m 5ms/step - accuracy: 0.9331 - loss: 0.2069 - val_accuracy: 0.9347 - val_loss: 0.2028\n",
      "Epoch 30/70\n",
      "\u001b[1m3162/3162\u001b[0m \u001b[32m━━━━━━━━━━━━━━━━━━━━\u001b[0m\u001b[37m\u001b[0m \u001b[1m16s\u001b[0m 5ms/step - accuracy: 0.9335 - loss: 0.2036 - val_accuracy: 0.9343 - val_loss: 0.2011\n",
      "Epoch 31/70\n",
      "\u001b[1m3162/3162\u001b[0m \u001b[32m━━━━━━━━━━━━━━━━━━━━\u001b[0m\u001b[37m\u001b[0m \u001b[1m15s\u001b[0m 5ms/step - accuracy: 0.9346 - loss: 0.2017 - val_accuracy: 0.9316 - val_loss: 0.2071\n",
      "Epoch 32/70\n",
      "\u001b[1m3162/3162\u001b[0m \u001b[32m━━━━━━━━━━━━━━━━━━━━\u001b[0m\u001b[37m\u001b[0m \u001b[1m17s\u001b[0m 5ms/step - accuracy: 0.9322 - loss: 0.2051 - val_accuracy: 0.9328 - val_loss: 0.2060\n",
      "Epoch 33/70\n",
      "\u001b[1m3162/3162\u001b[0m \u001b[32m━━━━━━━━━━━━━━━━━━━━\u001b[0m\u001b[37m\u001b[0m \u001b[1m19s\u001b[0m 6ms/step - accuracy: 0.9350 - loss: 0.1985 - val_accuracy: 0.9335 - val_loss: 0.2011\n",
      "Epoch 34/70\n",
      "\u001b[1m3162/3162\u001b[0m \u001b[32m━━━━━━━━━━━━━━━━━━━━\u001b[0m\u001b[37m\u001b[0m \u001b[1m17s\u001b[0m 6ms/step - accuracy: 0.9350 - loss: 0.1982 - val_accuracy: 0.9358 - val_loss: 0.2022\n",
      "Epoch 35/70\n",
      "\u001b[1m3162/3162\u001b[0m \u001b[32m━━━━━━━━━━━━━━━━━━━━\u001b[0m\u001b[37m\u001b[0m \u001b[1m18s\u001b[0m 6ms/step - accuracy: 0.9327 - loss: 0.2021 - val_accuracy: 0.9352 - val_loss: 0.2005\n",
      "Epoch 36/70\n",
      "\u001b[1m3162/3162\u001b[0m \u001b[32m━━━━━━━━━━━━━━━━━━━━\u001b[0m\u001b[37m\u001b[0m \u001b[1m18s\u001b[0m 6ms/step - accuracy: 0.9351 - loss: 0.2000 - val_accuracy: 0.9282 - val_loss: 0.2195\n",
      "Epoch 37/70\n",
      "\u001b[1m3162/3162\u001b[0m \u001b[32m━━━━━━━━━━━━━━━━━━━━\u001b[0m\u001b[37m\u001b[0m \u001b[1m18s\u001b[0m 6ms/step - accuracy: 0.9333 - loss: 0.2011 - val_accuracy: 0.9356 - val_loss: 0.2040\n",
      "Epoch 38/70\n",
      "\u001b[1m3162/3162\u001b[0m \u001b[32m━━━━━━━━━━━━━━━━━━━━\u001b[0m\u001b[37m\u001b[0m \u001b[1m18s\u001b[0m 6ms/step - accuracy: 0.9333 - loss: 0.2012 - val_accuracy: 0.9329 - val_loss: 0.2043\n",
      "Epoch 39/70\n",
      "\u001b[1m3162/3162\u001b[0m \u001b[32m━━━━━━━━━━━━━━━━━━━━\u001b[0m\u001b[37m\u001b[0m \u001b[1m17s\u001b[0m 5ms/step - accuracy: 0.9347 - loss: 0.1973 - val_accuracy: 0.9340 - val_loss: 0.1994\n",
      "Epoch 40/70\n",
      "\u001b[1m3162/3162\u001b[0m \u001b[32m━━━━━━━━━━━━━━━━━━━━\u001b[0m\u001b[37m\u001b[0m \u001b[1m17s\u001b[0m 6ms/step - accuracy: 0.9349 - loss: 0.1989 - val_accuracy: 0.9354 - val_loss: 0.1991\n",
      "Epoch 41/70\n",
      "\u001b[1m3162/3162\u001b[0m \u001b[32m━━━━━━━━━━━━━━━━━━━━\u001b[0m\u001b[37m\u001b[0m \u001b[1m17s\u001b[0m 5ms/step - accuracy: 0.9332 - loss: 0.2031 - val_accuracy: 0.9355 - val_loss: 0.1977\n",
      "Epoch 42/70\n",
      "\u001b[1m3162/3162\u001b[0m \u001b[32m━━━━━━━━━━━━━━━━━━━━\u001b[0m\u001b[37m\u001b[0m \u001b[1m17s\u001b[0m 5ms/step - accuracy: 0.9330 - loss: 0.2018 - val_accuracy: 0.9345 - val_loss: 0.2000\n",
      "Epoch 43/70\n",
      "\u001b[1m3162/3162\u001b[0m \u001b[32m━━━━━━━━━━━━━━━━━━━━\u001b[0m\u001b[37m\u001b[0m \u001b[1m17s\u001b[0m 5ms/step - accuracy: 0.9329 - loss: 0.2014 - val_accuracy: 0.9357 - val_loss: 0.2011\n",
      "Epoch 44/70\n",
      "\u001b[1m3162/3162\u001b[0m \u001b[32m━━━━━━━━━━━━━━━━━━━━\u001b[0m\u001b[37m\u001b[0m \u001b[1m17s\u001b[0m 5ms/step - accuracy: 0.9336 - loss: 0.2021 - val_accuracy: 0.9347 - val_loss: 0.1977\n",
      "Epoch 45/70\n",
      "\u001b[1m3162/3162\u001b[0m \u001b[32m━━━━━━━━━━━━━━━━━━━━\u001b[0m\u001b[37m\u001b[0m \u001b[1m17s\u001b[0m 5ms/step - accuracy: 0.9335 - loss: 0.1985 - val_accuracy: 0.9350 - val_loss: 0.1991\n",
      "Epoch 46/70\n",
      "\u001b[1m3162/3162\u001b[0m \u001b[32m━━━━━━━━━━━━━━━━━━━━\u001b[0m\u001b[37m\u001b[0m \u001b[1m18s\u001b[0m 6ms/step - accuracy: 0.9337 - loss: 0.2010 - val_accuracy: 0.9343 - val_loss: 0.2011\n",
      "Epoch 47/70\n",
      "\u001b[1m3162/3162\u001b[0m \u001b[32m━━━━━━━━━━━━━━━━━━━━\u001b[0m\u001b[37m\u001b[0m \u001b[1m18s\u001b[0m 6ms/step - accuracy: 0.9322 - loss: 0.2015 - val_accuracy: 0.9338 - val_loss: 0.2007\n",
      "Epoch 48/70\n",
      "\u001b[1m3162/3162\u001b[0m \u001b[32m━━━━━━━━━━━━━━━━━━━━\u001b[0m\u001b[37m\u001b[0m \u001b[1m16s\u001b[0m 5ms/step - accuracy: 0.9351 - loss: 0.1967 - val_accuracy: 0.9362 - val_loss: 0.1976\n",
      "Epoch 49/70\n",
      "\u001b[1m3162/3162\u001b[0m \u001b[32m━━━━━━━━━━━━━━━━━━━━\u001b[0m\u001b[37m\u001b[0m \u001b[1m15s\u001b[0m 5ms/step - accuracy: 0.9333 - loss: 0.2033 - val_accuracy: 0.9364 - val_loss: 0.1965\n",
      "Epoch 50/70\n",
      "\u001b[1m3162/3162\u001b[0m \u001b[32m━━━━━━━━━━━━━━━━━━━━\u001b[0m\u001b[37m\u001b[0m \u001b[1m16s\u001b[0m 5ms/step - accuracy: 0.9332 - loss: 0.2029 - val_accuracy: 0.9355 - val_loss: 0.1994\n",
      "Epoch 51/70\n",
      "\u001b[1m3162/3162\u001b[0m \u001b[32m━━━━━━━━━━━━━━━━━━━━\u001b[0m\u001b[37m\u001b[0m \u001b[1m16s\u001b[0m 5ms/step - accuracy: 0.9356 - loss: 0.1954 - val_accuracy: 0.9361 - val_loss: 0.1990\n",
      "Epoch 52/70\n",
      "\u001b[1m3162/3162\u001b[0m \u001b[32m━━━━━━━━━━━━━━━━━━━━\u001b[0m\u001b[37m\u001b[0m \u001b[1m16s\u001b[0m 5ms/step - accuracy: 0.9317 - loss: 0.2028 - val_accuracy: 0.9355 - val_loss: 0.1991\n",
      "Epoch 53/70\n",
      "\u001b[1m3162/3162\u001b[0m \u001b[32m━━━━━━━━━━━━━━━━━━━━\u001b[0m\u001b[37m\u001b[0m \u001b[1m16s\u001b[0m 5ms/step - accuracy: 0.9344 - loss: 0.1972 - val_accuracy: 0.9367 - val_loss: 0.1953\n",
      "Epoch 54/70\n",
      "\u001b[1m3162/3162\u001b[0m \u001b[32m━━━━━━━━━━━━━━━━━━━━\u001b[0m\u001b[37m\u001b[0m \u001b[1m15s\u001b[0m 5ms/step - accuracy: 0.9335 - loss: 0.1994 - val_accuracy: 0.9352 - val_loss: 0.1994\n",
      "Epoch 55/70\n",
      "\u001b[1m3162/3162\u001b[0m \u001b[32m━━━━━━━━━━━━━━━━━━━━\u001b[0m\u001b[37m\u001b[0m \u001b[1m16s\u001b[0m 5ms/step - accuracy: 0.9339 - loss: 0.1973 - val_accuracy: 0.9355 - val_loss: 0.1988\n",
      "Epoch 56/70\n",
      "\u001b[1m3162/3162\u001b[0m \u001b[32m━━━━━━━━━━━━━━━━━━━━\u001b[0m\u001b[37m\u001b[0m \u001b[1m15s\u001b[0m 5ms/step - accuracy: 0.9342 - loss: 0.1955 - val_accuracy: 0.9364 - val_loss: 0.1953\n",
      "Epoch 57/70\n",
      "\u001b[1m3162/3162\u001b[0m \u001b[32m━━━━━━━━━━━━━━━━━━━━\u001b[0m\u001b[37m\u001b[0m \u001b[1m15s\u001b[0m 5ms/step - accuracy: 0.9354 - loss: 0.1959 - val_accuracy: 0.9342 - val_loss: 0.2029\n",
      "Epoch 58/70\n",
      "\u001b[1m3162/3162\u001b[0m \u001b[32m━━━━━━━━━━━━━━━━━━━━\u001b[0m\u001b[37m\u001b[0m \u001b[1m16s\u001b[0m 5ms/step - accuracy: 0.9338 - loss: 0.1980 - val_accuracy: 0.9361 - val_loss: 0.1986\n",
      "Epoch 59/70\n",
      "\u001b[1m3162/3162\u001b[0m \u001b[32m━━━━━━━━━━━━━━━━━━━━\u001b[0m\u001b[37m\u001b[0m \u001b[1m17s\u001b[0m 5ms/step - accuracy: 0.9381 - loss: 0.1872 - val_accuracy: 0.9262 - val_loss: 0.2180\n",
      "Epoch 60/70\n",
      "\u001b[1m3162/3162\u001b[0m \u001b[32m━━━━━━━━━━━━━━━━━━━━\u001b[0m\u001b[37m\u001b[0m \u001b[1m20s\u001b[0m 5ms/step - accuracy: 0.9336 - loss: 0.1980 - val_accuracy: 0.9372 - val_loss: 0.1951\n",
      "Epoch 61/70\n",
      "\u001b[1m3162/3162\u001b[0m \u001b[32m━━━━━━━━━━━━━━━━━━━━\u001b[0m\u001b[37m\u001b[0m \u001b[1m16s\u001b[0m 5ms/step - accuracy: 0.9376 - loss: 0.1920 - val_accuracy: 0.9368 - val_loss: 0.1975\n",
      "Epoch 62/70\n",
      "\u001b[1m3162/3162\u001b[0m \u001b[32m━━━━━━━━━━━━━━━━━━━━\u001b[0m\u001b[37m\u001b[0m \u001b[1m17s\u001b[0m 5ms/step - accuracy: 0.9329 - loss: 0.1993 - val_accuracy: 0.9361 - val_loss: 0.1970\n",
      "Epoch 63/70\n",
      "\u001b[1m3162/3162\u001b[0m \u001b[32m━━━━━━━━━━━━━━━━━━━━\u001b[0m\u001b[37m\u001b[0m \u001b[1m17s\u001b[0m 5ms/step - accuracy: 0.9352 - loss: 0.1942 - val_accuracy: 0.9352 - val_loss: 0.2001\n",
      "Epoch 64/70\n",
      "\u001b[1m3162/3162\u001b[0m \u001b[32m━━━━━━━━━━━━━━━━━━━━\u001b[0m\u001b[37m\u001b[0m \u001b[1m16s\u001b[0m 5ms/step - accuracy: 0.9351 - loss: 0.1910 - val_accuracy: 0.9361 - val_loss: 0.1962\n",
      "Epoch 65/70\n",
      "\u001b[1m3162/3162\u001b[0m \u001b[32m━━━━━━━━━━━━━━━━━━━━\u001b[0m\u001b[37m\u001b[0m \u001b[1m16s\u001b[0m 5ms/step - accuracy: 0.9363 - loss: 0.1931 - val_accuracy: 0.9353 - val_loss: 0.1979\n",
      "Epoch 66/70\n",
      "\u001b[1m3162/3162\u001b[0m \u001b[32m━━━━━━━━━━━━━━━━━━━━\u001b[0m\u001b[37m\u001b[0m \u001b[1m21s\u001b[0m 5ms/step - accuracy: 0.9347 - loss: 0.1954 - val_accuracy: 0.9362 - val_loss: 0.2004\n",
      "Epoch 67/70\n",
      "\u001b[1m3162/3162\u001b[0m \u001b[32m━━━━━━━━━━━━━━━━━━━━\u001b[0m\u001b[37m\u001b[0m \u001b[1m17s\u001b[0m 5ms/step - accuracy: 0.9333 - loss: 0.1965 - val_accuracy: 0.9344 - val_loss: 0.2088\n",
      "Epoch 68/70\n",
      "\u001b[1m3162/3162\u001b[0m \u001b[32m━━━━━━━━━━━━━━━━━━━━\u001b[0m\u001b[37m\u001b[0m \u001b[1m18s\u001b[0m 6ms/step - accuracy: 0.9341 - loss: 0.1955 - val_accuracy: 0.9367 - val_loss: 0.1950\n",
      "Epoch 69/70\n",
      "\u001b[1m3162/3162\u001b[0m \u001b[32m━━━━━━━━━━━━━━━━━━━━\u001b[0m\u001b[37m\u001b[0m \u001b[1m17s\u001b[0m 5ms/step - accuracy: 0.9352 - loss: 0.1936 - val_accuracy: 0.9359 - val_loss: 0.1990\n",
      "Epoch 70/70\n",
      "\u001b[1m3162/3162\u001b[0m \u001b[32m━━━━━━━━━━━━━━━━━━━━\u001b[0m\u001b[37m\u001b[0m \u001b[1m16s\u001b[0m 5ms/step - accuracy: 0.9376 - loss: 0.1888 - val_accuracy: 0.9366 - val_loss: 0.1948\n"
     ]
    },
    {
     "data": {
      "text/plain": [
       "<keras.src.callbacks.history.History at 0x1b37fe41910>"
      ]
     },
     "execution_count": 86,
     "metadata": {},
     "output_type": "execute_result"
    }
   ],
   "source": [
    "cnn_model.fit(X_train_cnn, y_train, epochs=70, batch_size=16, validation_data=(X_test_cnn, y_test))\n",
    "# cnn_model.fit(X_train_cnn, y_train, epochs=50, batch_size=32, validation_split=0.2)"
   ]
  },
  {
   "cell_type": "code",
   "execution_count": 87,
   "metadata": {},
   "outputs": [
    {
     "name": "stdout",
     "output_type": "stream",
     "text": [
      "\u001b[1m678/678\u001b[0m \u001b[32m━━━━━━━━━━━━━━━━━━━━\u001b[0m\u001b[37m\u001b[0m \u001b[1m2s\u001b[0m 3ms/step\n"
     ]
    }
   ],
   "source": [
    "y_pred_cnn_proba = cnn_model.predict(X_test_cnn).ravel()\n",
    "y_pred_cnn = (y_pred_cnn_proba > 0.5).astype(int)"
   ]
  },
  {
   "cell_type": "code",
   "execution_count": 88,
   "metadata": {},
   "outputs": [],
   "source": [
    "accuracy_cnn = accuracy_score(y_test, y_pred_cnn)\n",
    "conf_matrix_cnn = confusion_matrix(y_test, y_pred_cnn)\n",
    "classification_report_cnn = classification_report(y_test, y_pred_cnn)\n",
    "auc_cnn = roc_auc_score(y_test, y_pred_cnn_proba)\n",
    "fpr_cnn, tpr_cnn, _ = roc_curve(y_test, y_pred_cnn_proba)"
   ]
  },
  {
   "cell_type": "code",
   "execution_count": 89,
   "metadata": {},
   "outputs": [],
   "source": [
    "tn, fp, fn, tp = conf_matrix_cnn.ravel()\n",
    "sensitivity_cnn = tp / (tp + fn)\n",
    "specificity_cnn = tn / (tn + fp)\n",
    "f1_score_cnn = 2 * (sensitivity_cnn * specificity_cnn) / (sensitivity_cnn + specificity_cnn)"
   ]
  },
  {
   "cell_type": "code",
   "execution_count": 90,
   "metadata": {},
   "outputs": [
    {
     "name": "stdout",
     "output_type": "stream",
     "text": [
      "CNN Model Accuracy: 0.936632384817599\n",
      "Classification Report:\n",
      "               precision    recall  f1-score   support\n",
      "\n",
      "           0       0.92      0.94      0.93      9795\n",
      "           1       0.95      0.93      0.94     11888\n",
      "\n",
      "    accuracy                           0.94     21683\n",
      "   macro avg       0.94      0.94      0.94     21683\n",
      "weighted avg       0.94      0.94      0.94     21683\n",
      "\n",
      "Confusion Matrix:\n",
      " [[ 9197   598]\n",
      " [  776 11112]]\n",
      "Sensitivity: 0.9347240915208613\n",
      "Specificity: 0.9389484430832057\n",
      "F1 Score: 0.9368315052249382\n",
      "AUC: 0.9726288347530844\n"
     ]
    }
   ],
   "source": [
    "print(\"CNN Model Accuracy:\", accuracy_cnn)\n",
    "print(\"Classification Report:\\n\", classification_report_cnn)\n",
    "print(\"Confusion Matrix:\\n\", conf_matrix_cnn)\n",
    "print(\"Sensitivity:\", sensitivity_cnn)\n",
    "print(\"Specificity:\", specificity_cnn)\n",
    "print(\"F1 Score:\", f1_score_cnn)\n",
    "print(\"AUC:\", auc_cnn)"
   ]
  },
  {
   "cell_type": "code",
   "execution_count": 91,
   "metadata": {},
   "outputs": [
    {
     "data": {
      "image/png": "[encoded data removed]",
      "text/plain": [
       "<Figure size 640x480 with 1 Axes>"
      ]
     },
     "metadata": {},
     "output_type": "display_data"
    }
   ],
   "source": [
    "plt.figure()\n",
    "plt.plot(fpr_cnn, tpr_cnn, label=\"CNN (AUC = {:.2f})\".format(auc_cnn))\n",
    "plt.xlabel(\"False Positive Rate\")\n",
    "plt.ylabel(\"True Positive Rate\")\n",
    "plt.title(\"ROC Curve for CNN\")\n",
    "plt.legend(loc=\"lower right\")\n",
    "plt.show()"
   ]
  },
  {
   "cell_type": "code",
   "execution_count": null,
   "metadata": {},
   "outputs": [],
   "source": []
  }
 ],
 "metadata": {
  "kernelspec": {
   "display_name": "Python 3",
   "language": "python",
   "name": "python3"
  },
  "language_info": {
   "codemirror_mode": {
    "name": "ipython",
    "version": 3
   },
   "file_extension": ".py",
   "mimetype": "text/x-python",
   "name": "python",
   "nbconvert_exporter": "python",
   "pygments_lexer": "ipython3",
   "version": "3.11.4"
  }
 },
 "nbformat": 4,
 "nbformat_minor": 2
}
